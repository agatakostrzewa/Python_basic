{
  "nbformat": 4,
  "nbformat_minor": 0,
  "metadata": {
    "colab": {
      "provenance": [],
      "toc_visible": true,
      "authorship_tag": "ABX9TyM09JMR4TVr74JEcryshPxQ",
      "include_colab_link": true
    },
    "kernelspec": {
      "name": "python3",
      "display_name": "Python 3"
    },
    "language_info": {
      "name": "python"
    }
  },
  "cells": [
    {
      "cell_type": "markdown",
      "metadata": {
        "id": "view-in-github",
        "colab_type": "text"
      },
      "source": [
        "<a href=\"https://colab.research.google.com/github/agatakostrzewa/Python_basic/blob/main/HANGMAN_game.ipynb\" target=\"_parent\"><img src=\"https://colab.research.google.com/assets/colab-badge.svg\" alt=\"Open In Colab\"/></a>"
      ]
    },
    {
      "cell_type": "markdown",
      "source": [
        "#**HANGMAN GAME** - starting with python"
      ],
      "metadata": {
        "id": "eyy18jfb9zdc"
      }
    },
    {
      "cell_type": "markdown",
      "source": [
        "My first python project. The purpose of this project is to practise everything I learned so far while creating a Hangman game."
      ],
      "metadata": {
        "id": "O0yHR-tktyFK"
      }
    },
    {
      "cell_type": "markdown",
      "source": [
        "### **1. Importing libraries**"
      ],
      "metadata": {
        "id": "FLdEYR6racAt"
      }
    },
    {
      "cell_type": "code",
      "source": [
        "import nltk\n",
        "nltk.download('words')###t of all English words\n",
        "from nltk.corpus import words\n",
        "#you need the function randrange from the 'random' library, which chooses a random word from a list of words\n",
        "from random import randrange"
      ],
      "metadata": {
        "colab": {
          "base_uri": "https://localhost:8080/"
        },
        "id": "RxKrXKENabLt",
        "outputId": "f7631870-f2fa-4121-fbf0-9eed67401eee"
      },
      "execution_count": null,
      "outputs": [
        {
          "output_type": "stream",
          "name": "stderr",
          "text": [
            "[nltk_data] Downloading package words to /root/nltk_data...\n",
            "[nltk_data]   Unzipping corpora/words.zip.\n"
          ]
        }
      ]
    },
    {
      "cell_type": "markdown",
      "source": [
        "### **2. Create list of words and then chose a random one from that list.**"
      ],
      "metadata": {
        "id": "zXzPGB9Barf9"
      }
    },
    {
      "cell_type": "code",
      "source": [
        "#first create a list called \"word_list\"containing all words in the NLTK 'words' corpus.\n",
        "word_list = words.words()  #this create the list using the 'words' library.\n",
        "#select a random word from the 'world_list' list using the randrage function and assigns it to a new variable called 'word'\n",
        "word = word_list[randrange(len(word_list))]"
      ],
      "metadata": {
        "id": "E8IdclxUbQ0D"
      },
      "execution_count": null,
      "outputs": []
    },
    {
      "cell_type": "markdown",
      "source": [
        "### **3. Hidding the word**"
      ],
      "metadata": {
        "id": "21Mkyqq1ecxH"
      }
    },
    {
      "cell_type": "code",
      "source": [
        "#create a string of dashes that has the same length as 'word', and assigns it to a new variable called 'hidden_word'\n",
        "hidden_word = '-'*len(word)"
      ],
      "metadata": {
        "id": "jxHi8bSBfSes"
      },
      "execution_count": null,
      "outputs": []
    },
    {
      "cell_type": "markdown",
      "source": [
        "### **4. Converting Word to Uppercas**\n",
        "\n",
        "In a game, converting the word to uppercase is necessary to ensure consistency in letter matching. This allows for case-insensitive comparisons between the letters guessed by the player and the actual letters in the hidden word, ensuring that the game accurately detects correct guesses and updates the game state accordingly."
      ],
      "metadata": {
        "id": "vFZAWym0frq1"
      }
    },
    {
      "cell_type": "code",
      "source": [
        "#this line converts the word to uppercase\n",
        "word = word.upper()"
      ],
      "metadata": {
        "id": "oCtVxokdjTd5"
      },
      "execution_count": null,
      "outputs": []
    },
    {
      "cell_type": "markdown",
      "source": [
        "### **5. Start the game**"
      ],
      "metadata": {
        "id": "gD45JOTCjprB"
      }
    },
    {
      "cell_type": "code",
      "source": [
        "#print(word) #if you want to know the answer remove '#' at the beginning of the line\n",
        "print('....................................................................')\n",
        "print(f'Hidden word is: {hidden_word}.')"
      ],
      "metadata": {
        "colab": {
          "base_uri": "https://localhost:8080/"
        },
        "id": "IcWgQtJ1j03z",
        "outputId": "72015aa2-9f30-4568-ef8a-8476cf8d8227"
      },
      "execution_count": null,
      "outputs": [
        {
          "output_type": "stream",
          "name": "stdout",
          "text": [
            "....................................................................\n",
            "Hidden word is: ----------.\n"
          ]
        }
      ]
    },
    {
      "cell_type": "markdown",
      "source": [
        "#### **5.1. Mistakes Tracking**\n",
        "\n",
        "The variable \"mistake_count\" is used to keep track of the number of mistakes made by the player in the Hangman game. It is initialized with an initial value of 6, representing the maximum number of allowed mistakes before the player loses the game."
      ],
      "metadata": {
        "id": "tIdpVMzGkYBV"
      }
    },
    {
      "cell_type": "code",
      "source": [
        "#create a variable that keeps track of the number of mistakes the player has made and assign an initial value of 6 to it.\n",
        "mistake_count = 6"
      ],
      "metadata": {
        "id": "deRAmxSKqWxu"
      },
      "execution_count": null,
      "outputs": []
    },
    {
      "cell_type": "markdown",
      "source": [
        "#### **5.2. Hangman Drawing - dictionary**\n",
        "\n",
        "The \"hangman\" dictionary maps each number of mistakes to a corresponding ASCII art drawing of the hangman. It provides visual representations of the hangman's gallows at different stages of the game. Each key represents the number of mistakes, and the corresponding value is a string containing the ASCII art for that stage of the hangman drawing. These drawings are displayed to the player to visualize their progress and the consequences of incorrect guesses."
      ],
      "metadata": {
        "id": "RzeGpT6Gqnt0"
      }
    },
    {
      "cell_type": "code",
      "source": [
        "#create a dictionary (dictionaries take keys and values) and assign to each number of mistake (each  key), a value showing the drawing of the hangman for this number of mistakes\n",
        "hangman={0:'''\n",
        "        ____________\n",
        "         |''',\n",
        "        1:'''\n",
        "        ____________\n",
        "         |\n",
        "         O''',\n",
        "        2:'''\n",
        "        ____________\n",
        "         |\n",
        "         O\n",
        "        /''',\n",
        "        3:'''\n",
        "        ____________\n",
        "         |\n",
        "         O\n",
        "        / \\\\''',\n",
        "        4:'''\n",
        "        ____________\n",
        "         |\n",
        "         O\n",
        "        / \\\\\n",
        "         |''',\n",
        "        5:'''\n",
        "        ____________\n",
        "         |\n",
        "         O\n",
        "        / \\\\\n",
        "         |\n",
        "        /''',\n",
        "        6:'''\n",
        "        ____________\n",
        "         |\n",
        "         O\n",
        "        / \\\\\n",
        "         |\n",
        "        / \\\\ '''}\n"
      ],
      "metadata": {
        "id": "kWfW65m2qxcj"
      },
      "execution_count": null,
      "outputs": []
    },
    {
      "cell_type": "markdown",
      "source": [
        "#### **5.3. Hangman Game Loop**\n",
        "\n",
        "The code represents the main loop and gameplay mechanics of a Hangman game. It includes sections for tracking mistakes, handling user input and letter matching, displaying feedback for correct and incorrect guesses, and determining the game outcome. The code allows the player to continue guessing letters until they run out of mistakes or successfully guess the hidden word."
      ],
      "metadata": {
        "id": "28uUMKwCrIOP"
      }
    },
    {
      "cell_type": "markdown",
      "source": [
        "![360_F_262244537_RjHfRBucxPyo7o6QetIAQYpd5O3h6cEN.jpg](data:image/jpeg;base64,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)"
      ],
      "metadata": {
        "id": "o1_vXBZSv1p7"
      }
    },
    {
      "cell_type": "markdown",
      "source": [
        "##### **5.3.1. Chapter 1: Loop Condition and Initialization**\n",
        "\n",
        "This chapter sets up the while loop that will continue executing as long as two conditions are met: the \"mistake_count\" is greater than 0 (indicating the player has remaining mistakes), and the count of dashes (\"-\") in the \"hidden_word\" is not equal to 0 (indicating there are still letters to be guessed in the word). The variables \"index_count\" and \"letter_count\" are initialized to 0 for tracking indices and counting occurrences of the guessed letter in the word."
      ],
      "metadata": {
        "id": "5ciSExHfzR-z"
      }
    },
    {
      "cell_type": "markdown",
      "source": [
        "#####**5.3.2. Chapter 2: User Input and Letter Matching**\n",
        "\n",
        "In this chapter, the player is prompted to enter a letter guess. The input is stored in the \"guess\" variable after capitalizing it. The for loop iterates over each letter in the \"word\" that the player needs to guess. If the letter matches the guessed letter, the corresponding dash in the \"hidden_word\" is replaced with the guessed letter, and \"letter_count\" is incremented to keep track of correct guesses. The \"index_count\" is updated to move through the \"hidden_word\" and \"word\" letters simultaneously."
      ],
      "metadata": {
        "id": "Fcb9SRgizlcy"
      }
    },
    {
      "cell_type": "markdown",
      "source": [
        "##### **5.3.3. Chapter 3: Handling Correct and Incorrect Guesses**\n",
        "\n",
        "This chapter deals with the consequences of the player's guess. If the guessed letter is present in the \"word\", it is considered correct. The player is informed of the correct guess, the number of remaining mistakes, and the updated \"hidden_word\" with revealed letters. If the guessed letter is not present in the \"word\", it is considered wrong. The \"mistake_count\" is decremented by 1, the hangman drawing corresponding to the current stage is printed, and the player is shown the updated \"hidden_word\".\n",
        "\n"
      ],
      "metadata": {
        "id": "UZb0jwZz0C6K"
      }
    },
    {
      "cell_type": "markdown",
      "source": [
        "##### **5.3.4. Chapter 4: Game Completion and Outcome**\n",
        "\n",
        "This chapter handles the end of the game. If the \"mistake_count\" reaches 0, indicating that the player has run out of mistakes, a message is printed indicating that the player was hanged, and the \"word\" is revealed. Otherwise, if the number of dashes in the \"hidden_word\" is 0, meaning the player has successfully guessed all the letters in the word, a congratulatory message is printed to indicate that the player has won the game.\n"
      ],
      "metadata": {
        "id": "gIlm4cBc0a70"
      }
    },
    {
      "cell_type": "markdown",
      "source": [
        "##### **5.3.5. Code**"
      ],
      "metadata": {
        "id": "TjOIOf4901i4"
      }
    },
    {
      "cell_type": "code",
      "source": [
        "# Chapter 1: Loop Condition and Initialization\n",
        "# This chapter sets up the while loop that continues as long as the mistake_count is greater than 0 and there are still dashes in the hidden_word.\n",
        "while mistake_count > 0 and hidden_word.count('-') != 0:\n",
        "    index_count = 0\n",
        "    letter_count = 0\n",
        "\n",
        "    # Chapter 2: User Input and Letter Matching\n",
        "    # This chapter prompts the user to input a letter guess and iterates over each letter in the word to check for matches.\n",
        "    print('Pick a letter:')\n",
        "    guess = input().capitalize()\n",
        "    for letter in word:\n",
        "        if letter == guess:\n",
        "            # If the guessed letter matches, it replaces the corresponding dash in hidden_word with the letter.\n",
        "            hidden_word = hidden_word[:index_count] + guess + hidden_word[index_count + 1:]\n",
        "            letter_count += 1\n",
        "        index_count += 1\n",
        "\n",
        "    # Chapter 3: Handling Correct and Incorrect Guesses\n",
        "    # This chapter handles the consequences of the player's guess, providing feedback and updating the mistake_count and hidden_word accordingly.\n",
        "    if word.count(guess) > 0:\n",
        "        # If the guessed letter is correct, it prints the feedback message, shows the updated hidden_word, and displays a separator.\n",
        "        print(f'''CORRECT! The word contains the letter {guess}.\n",
        "    Number of mistakes left: {mistake_count}''')\n",
        "        print(hidden_word)\n",
        "        print('....................................................................')\n",
        "    else:\n",
        "        # If the guessed letter is wrong, it decrements the mistake_count, displays the hangman drawing, shows the updated hidden_word, and displays a separator.\n",
        "        mistake_count -= 1\n",
        "        print(f'''WRONG!\n",
        "    Number of mistakes left: {mistake_count}''')\n",
        "        print(hangman[6 - mistake_count])\n",
        "        print(hidden_word)\n",
        "        print('....................................................................')\n",
        "\n",
        "# Chapter 4: Game Completion and Outcome\n",
        "# This chapter checks if the game is completed (either by running out of mistakes or guessing the word) and displays the corresponding message.\n",
        "if mistake_count == 0:\n",
        "    print(f'You were hanged!!! The Hidden word was {word}')\n",
        "else:\n",
        "    print('CONGRATULATIONS! You won!')"
      ],
      "metadata": {
        "colab": {
          "base_uri": "https://localhost:8080/"
        },
        "id": "G7GVXXqOthay",
        "outputId": "ae4ae0de-6837-4098-ebb8-3b87f23e6b61"
      },
      "execution_count": null,
      "outputs": [
        {
          "output_type": "stream",
          "name": "stdout",
          "text": [
            "Pick a letter:\n",
            "a\n",
            "WRONG!\n",
            "    Number of mistakes left: 5\n",
            "\n",
            "        ____________\n",
            "         |\n",
            "         O\n",
            "----------\n",
            "....................................................................\n",
            "Pick a letter:\n",
            "b\n",
            "WRONG!\n",
            "    Number of mistakes left: 4\n",
            "\n",
            "        ____________\n",
            "         |\n",
            "         O\n",
            "        /\n",
            "----------\n",
            "....................................................................\n",
            "Pick a letter:\n",
            "s\n",
            "WRONG!\n",
            "    Number of mistakes left: 3\n",
            "\n",
            "        ____________\n",
            "         |\n",
            "         O\n",
            "        / \\\n",
            "----------\n",
            "....................................................................\n",
            "Pick a letter:\n",
            "e\n",
            "WRONG!\n",
            "    Number of mistakes left: 2\n",
            "\n",
            "        ____________\n",
            "         |\n",
            "         O\n",
            "        / \\\n",
            "         |\n",
            "----------\n",
            "....................................................................\n",
            "Pick a letter:\n",
            "t\n",
            "CORRECT! The word contains the letter T.\n",
            "    Number of mistakes left: 2\n",
            "---------T\n",
            "....................................................................\n",
            "Pick a letter:\n",
            "i\n",
            "WRONG!\n",
            "    Number of mistakes left: 1\n",
            "\n",
            "        ____________\n",
            "         |\n",
            "         O\n",
            "        / \\\n",
            "         |\n",
            "        /\n",
            "---------T\n",
            "....................................................................\n",
            "Pick a letter:\n",
            "m\n",
            "CORRECT! The word contains the letter M.\n",
            "    Number of mistakes left: 1\n",
            "--M------T\n",
            "....................................................................\n",
            "Pick a letter:\n",
            "c\n",
            "CORRECT! The word contains the letter C.\n",
            "    Number of mistakes left: 1\n",
            "--M-----CT\n",
            "....................................................................\n",
            "Pick a letter:\n",
            "o\n",
            "CORRECT! The word contains the letter O.\n",
            "    Number of mistakes left: 1\n",
            "--M--O--CT\n",
            "....................................................................\n",
            "Pick a letter:\n",
            "r\n",
            "WRONG!\n",
            "    Number of mistakes left: 0\n",
            "\n",
            "        ____________\n",
            "         |\n",
            "         O\n",
            "        / \\\n",
            "         |\n",
            "        / \\ \n",
            "--M--O--CT\n",
            "....................................................................\n",
            "You were hanged!!! The Hidden word was LYMPHODUCT\n"
          ]
        }
      ]
    },
    {
      "cell_type": "markdown",
      "source": [
        "### **6. Summary**\n",
        "\n",
        "The Hangman game code utilizes concepts such as loops, conditionals, user input, string manipulation, and dictionaries. It showcases the use of these fundamental programming elements to create an interactive and engaging game. Implementing Hangman is a good exercise as it involves problem-solving, logic building, and applying different programming concepts in a practical context. It also encourages creativity in designing the game's visuals and feedback system. By creating Hangman, one can strengthen their programming skills while having fun and exploring the intricacies of game development."
      ],
      "metadata": {
        "id": "1aUfvCF527vB"
      }
    }
  ]
}